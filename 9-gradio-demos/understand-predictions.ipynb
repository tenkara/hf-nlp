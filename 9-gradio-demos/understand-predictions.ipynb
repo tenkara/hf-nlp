{
 "cells": [
  {
   "cell_type": "code",
   "execution_count": 1,
   "metadata": {},
   "outputs": [
    {
     "name": "stdout",
     "output_type": "stream",
     "text": [
      "Requirement already satisfied: gradio in c:\\users\\raj\\appdata\\local\\programs\\python\\python311\\lib\\site-packages (3.35.2)\n",
      "Requirement already satisfied: aiofiles in c:\\users\\raj\\appdata\\local\\programs\\python\\python311\\lib\\site-packages (from gradio) (23.1.0)\n",
      "Requirement already satisfied: aiohttp in c:\\users\\raj\\appdata\\local\\programs\\python\\python311\\lib\\site-packages (from gradio) (3.8.3)\n",
      "Requirement already satisfied: altair>=4.2.0 in c:\\users\\raj\\appdata\\local\\programs\\python\\python311\\lib\\site-packages (from gradio) (4.2.2)\n",
      "Requirement already satisfied: fastapi in c:\\users\\raj\\appdata\\local\\programs\\python\\python311\\lib\\site-packages (from gradio) (0.98.0)\n",
      "Requirement already satisfied: ffmpy in c:\\users\\raj\\appdata\\local\\programs\\python\\python311\\lib\\site-packages (from gradio) (0.3.0)\n",
      "Requirement already satisfied: gradio-client>=0.2.7 in c:\\users\\raj\\appdata\\local\\programs\\python\\python311\\lib\\site-packages (from gradio) (0.2.7)\n",
      "Requirement already satisfied: httpx in c:\\users\\raj\\appdata\\local\\programs\\python\\python311\\lib\\site-packages (from gradio) (0.24.1)\n",
      "Requirement already satisfied: huggingface-hub>=0.14.0 in c:\\users\\raj\\appdata\\local\\programs\\python\\python311\\lib\\site-packages (from gradio) (0.14.1)\n",
      "Requirement already satisfied: jinja2 in c:\\users\\raj\\appdata\\local\\programs\\python\\python311\\lib\\site-packages (from gradio) (3.1.2)\n",
      "Requirement already satisfied: markdown-it-py[linkify]>=2.0.0 in c:\\users\\raj\\appdata\\local\\programs\\python\\python311\\lib\\site-packages (from gradio) (2.2.0)\n",
      "Requirement already satisfied: markupsafe in c:\\users\\raj\\appdata\\local\\programs\\python\\python311\\lib\\site-packages (from gradio) (2.1.2)\n",
      "Requirement already satisfied: matplotlib in c:\\users\\raj\\appdata\\local\\programs\\python\\python311\\lib\\site-packages (from gradio) (3.7.0)\n",
      "Requirement already satisfied: mdit-py-plugins<=0.3.3 in c:\\users\\raj\\appdata\\local\\programs\\python\\python311\\lib\\site-packages (from gradio) (0.3.3)\n",
      "Requirement already satisfied: numpy in c:\\users\\raj\\appdata\\local\\programs\\python\\python311\\lib\\site-packages (from gradio) (1.24.2)\n",
      "Requirement already satisfied: orjson in c:\\users\\raj\\appdata\\local\\programs\\python\\python311\\lib\\site-packages (from gradio) (3.9.1)\n",
      "Requirement already satisfied: pandas in c:\\users\\raj\\appdata\\local\\programs\\python\\python311\\lib\\site-packages (from gradio) (1.5.3)\n",
      "Requirement already satisfied: pillow in c:\\users\\raj\\appdata\\local\\programs\\python\\python311\\lib\\site-packages (from gradio) (9.4.0)\n",
      "Requirement already satisfied: pydantic in c:\\users\\raj\\appdata\\local\\programs\\python\\python311\\lib\\site-packages (from gradio) (1.10.9)\n",
      "Requirement already satisfied: pydub in c:\\users\\raj\\appdata\\local\\programs\\python\\python311\\lib\\site-packages (from gradio) (0.25.1)\n",
      "Requirement already satisfied: pygments>=2.12.0 in c:\\users\\raj\\appdata\\local\\programs\\python\\python311\\lib\\site-packages (from gradio) (2.14.0)\n",
      "Requirement already satisfied: python-multipart in c:\\users\\raj\\appdata\\local\\programs\\python\\python311\\lib\\site-packages (from gradio) (0.0.6)\n",
      "Requirement already satisfied: pyyaml in c:\\users\\raj\\appdata\\local\\programs\\python\\python311\\lib\\site-packages (from gradio) (6.0)\n",
      "Requirement already satisfied: requests in c:\\users\\raj\\appdata\\local\\programs\\python\\python311\\lib\\site-packages (from gradio) (2.28.2)\n",
      "Requirement already satisfied: semantic-version in c:\\users\\raj\\appdata\\local\\programs\\python\\python311\\lib\\site-packages (from gradio) (2.10.0)\n",
      "Requirement already satisfied: uvicorn>=0.14.0 in c:\\users\\raj\\appdata\\local\\programs\\python\\python311\\lib\\site-packages (from gradio) (0.22.0)\n",
      "Requirement already satisfied: websockets>=10.0 in c:\\users\\raj\\appdata\\local\\programs\\python\\python311\\lib\\site-packages (from gradio) (11.0.3)\n",
      "Requirement already satisfied: entrypoints in c:\\users\\raj\\appdata\\local\\programs\\python\\python311\\lib\\site-packages (from altair>=4.2.0->gradio) (0.4)\n",
      "Requirement already satisfied: jsonschema>=3.0 in c:\\users\\raj\\appdata\\local\\programs\\python\\python311\\lib\\site-packages (from altair>=4.2.0->gradio) (4.17.3)\n",
      "Requirement already satisfied: toolz in c:\\users\\raj\\appdata\\local\\programs\\python\\python311\\lib\\site-packages (from altair>=4.2.0->gradio) (0.12.0)\n",
      "Requirement already satisfied: fsspec in c:\\users\\raj\\appdata\\local\\programs\\python\\python311\\lib\\site-packages (from gradio-client>=0.2.7->gradio) (2023.5.0)\n",
      "Requirement already satisfied: packaging in c:\\users\\raj\\appdata\\local\\programs\\python\\python311\\lib\\site-packages (from gradio-client>=0.2.7->gradio) (23.0)\n",
      "Requirement already satisfied: typing-extensions in c:\\users\\raj\\appdata\\local\\programs\\python\\python311\\lib\\site-packages (from gradio-client>=0.2.7->gradio) (4.4.0)\n",
      "Requirement already satisfied: filelock in c:\\users\\raj\\appdata\\local\\programs\\python\\python311\\lib\\site-packages (from huggingface-hub>=0.14.0->gradio) (3.9.0)\n",
      "Requirement already satisfied: tqdm>=4.42.1 in c:\\users\\raj\\appdata\\local\\programs\\python\\python311\\lib\\site-packages (from huggingface-hub>=0.14.0->gradio) (4.64.1)\n",
      "Requirement already satisfied: mdurl~=0.1 in c:\\users\\raj\\appdata\\local\\programs\\python\\python311\\lib\\site-packages (from markdown-it-py[linkify]>=2.0.0->gradio) (0.1.2)\n",
      "Requirement already satisfied: linkify-it-py<3,>=1 in c:\\users\\raj\\appdata\\local\\programs\\python\\python311\\lib\\site-packages (from markdown-it-py[linkify]>=2.0.0->gradio) (2.0.2)\n",
      "Requirement already satisfied: python-dateutil>=2.8.1 in c:\\users\\raj\\appdata\\local\\programs\\python\\python311\\lib\\site-packages (from pandas->gradio) (2.8.2)\n",
      "Requirement already satisfied: pytz>=2020.1 in c:\\users\\raj\\appdata\\local\\programs\\python\\python311\\lib\\site-packages (from pandas->gradio) (2022.7.1)\n",
      "Requirement already satisfied: click>=7.0 in c:\\users\\raj\\appdata\\local\\programs\\python\\python311\\lib\\site-packages (from uvicorn>=0.14.0->gradio) (8.1.3)\n",
      "Requirement already satisfied: h11>=0.8 in c:\\users\\raj\\appdata\\local\\programs\\python\\python311\\lib\\site-packages (from uvicorn>=0.14.0->gradio) (0.14.0)\n",
      "Requirement already satisfied: attrs>=17.3.0 in c:\\users\\raj\\appdata\\local\\programs\\python\\python311\\lib\\site-packages (from aiohttp->gradio) (22.2.0)\n",
      "Requirement already satisfied: charset-normalizer<3.0,>=2.0 in c:\\users\\raj\\appdata\\local\\programs\\python\\python311\\lib\\site-packages (from aiohttp->gradio) (2.1.1)\n",
      "Requirement already satisfied: multidict<7.0,>=4.5 in c:\\users\\raj\\appdata\\local\\programs\\python\\python311\\lib\\site-packages (from aiohttp->gradio) (6.0.4)\n",
      "Requirement already satisfied: async-timeout<5.0,>=4.0.0a3 in c:\\users\\raj\\appdata\\local\\programs\\python\\python311\\lib\\site-packages (from aiohttp->gradio) (4.0.2)\n",
      "Requirement already satisfied: yarl<2.0,>=1.0 in c:\\users\\raj\\appdata\\local\\programs\\python\\python311\\lib\\site-packages (from aiohttp->gradio) (1.8.2)\n",
      "Requirement already satisfied: frozenlist>=1.1.1 in c:\\users\\raj\\appdata\\local\\programs\\python\\python311\\lib\\site-packages (from aiohttp->gradio) (1.3.3)\n",
      "Requirement already satisfied: aiosignal>=1.1.2 in c:\\users\\raj\\appdata\\local\\programs\\python\\python311\\lib\\site-packages (from aiohttp->gradio) (1.3.1)\n",
      "Requirement already satisfied: starlette<0.28.0,>=0.27.0 in c:\\users\\raj\\appdata\\local\\programs\\python\\python311\\lib\\site-packages (from fastapi->gradio) (0.27.0)\n",
      "Requirement already satisfied: certifi in c:\\users\\raj\\appdata\\local\\programs\\python\\python311\\lib\\site-packages (from httpx->gradio) (2022.12.7)\n",
      "Requirement already satisfied: httpcore<0.18.0,>=0.15.0 in c:\\users\\raj\\appdata\\local\\programs\\python\\python311\\lib\\site-packages (from httpx->gradio) (0.17.2)\n",
      "Requirement already satisfied: idna in c:\\users\\raj\\appdata\\local\\programs\\python\\python311\\lib\\site-packages (from httpx->gradio) (3.4)\n",
      "Requirement already satisfied: sniffio in c:\\users\\raj\\appdata\\local\\programs\\python\\python311\\lib\\site-packages (from httpx->gradio) (1.3.0)\n",
      "Requirement already satisfied: contourpy>=1.0.1 in c:\\users\\raj\\appdata\\local\\programs\\python\\python311\\lib\\site-packages (from matplotlib->gradio) (1.0.7)\n",
      "Requirement already satisfied: cycler>=0.10 in c:\\users\\raj\\appdata\\local\\programs\\python\\python311\\lib\\site-packages (from matplotlib->gradio) (0.11.0)\n",
      "Requirement already satisfied: fonttools>=4.22.0 in c:\\users\\raj\\appdata\\local\\programs\\python\\python311\\lib\\site-packages (from matplotlib->gradio) (4.38.0)\n",
      "Requirement already satisfied: kiwisolver>=1.0.1 in c:\\users\\raj\\appdata\\local\\programs\\python\\python311\\lib\\site-packages (from matplotlib->gradio) (1.4.4)\n",
      "Requirement already satisfied: pyparsing>=2.3.1 in c:\\users\\raj\\appdata\\local\\programs\\python\\python311\\lib\\site-packages (from matplotlib->gradio) (3.0.9)\n",
      "Requirement already satisfied: urllib3<1.27,>=1.21.1 in c:\\users\\raj\\appdata\\local\\programs\\python\\python311\\lib\\site-packages (from requests->gradio) (1.26.14)\n",
      "Requirement already satisfied: colorama in c:\\users\\raj\\appdata\\local\\programs\\python\\python311\\lib\\site-packages (from click>=7.0->uvicorn>=0.14.0->gradio) (0.4.6)\n",
      "Requirement already satisfied: anyio<5.0,>=3.0 in c:\\users\\raj\\appdata\\local\\programs\\python\\python311\\lib\\site-packages (from httpcore<0.18.0,>=0.15.0->httpx->gradio) (3.7.0)\n",
      "Requirement already satisfied: pyrsistent!=0.17.0,!=0.17.1,!=0.17.2,>=0.14.0 in c:\\users\\raj\\appdata\\local\\programs\\python\\python311\\lib\\site-packages (from jsonschema>=3.0->altair>=4.2.0->gradio) (0.19.3)\n",
      "Requirement already satisfied: uc-micro-py in c:\\users\\raj\\appdata\\local\\programs\\python\\python311\\lib\\site-packages (from linkify-it-py<3,>=1->markdown-it-py[linkify]>=2.0.0->gradio) (1.0.2)\n",
      "Requirement already satisfied: six>=1.5 in c:\\users\\raj\\appdata\\local\\programs\\python\\python311\\lib\\site-packages (from python-dateutil>=2.8.1->pandas->gradio) (1.16.0)\n"
     ]
    }
   ],
   "source": [
    "! pip install gradio"
   ]
  },
  {
   "cell_type": "code",
   "execution_count": null,
   "metadata": {},
   "outputs": [],
   "source": [
    "! pip install tensorflow==2."
   ]
  },
  {
   "cell_type": "code",
   "execution_count": 2,
   "metadata": {},
   "outputs": [
    {
     "ename": "ModuleNotFoundError",
     "evalue": "No module named 'tensorflow'",
     "output_type": "error",
     "traceback": [
      "\u001b[1;31m---------------------------------------------------------------------------\u001b[0m",
      "\u001b[1;31mModuleNotFoundError\u001b[0m                       Traceback (most recent call last)",
      "\u001b[1;32m~\\AppData\\Local\\Temp/ipykernel_20800/3829876690.py\u001b[0m in \u001b[0;36m<module>\u001b[1;34m\u001b[0m\n\u001b[0;32m      1\u001b[0m \u001b[1;32mimport\u001b[0m \u001b[0mrequests\u001b[0m\u001b[1;33m\u001b[0m\u001b[1;33m\u001b[0m\u001b[0m\n\u001b[1;32m----> 2\u001b[1;33m \u001b[1;32mimport\u001b[0m \u001b[0mtensorflow\u001b[0m \u001b[1;32mas\u001b[0m \u001b[0mtf\u001b[0m\u001b[1;33m\u001b[0m\u001b[1;33m\u001b[0m\u001b[0m\n\u001b[0m\u001b[0;32m      3\u001b[0m \u001b[1;32mimport\u001b[0m \u001b[0mgradio\u001b[0m \u001b[1;32mas\u001b[0m \u001b[0mgr\u001b[0m\u001b[1;33m\u001b[0m\u001b[1;33m\u001b[0m\u001b[0m\n",
      "\u001b[1;31mModuleNotFoundError\u001b[0m: No module named 'tensorflow'"
     ]
    }
   ],
   "source": [
    "import requests\n",
    "import tensorflow as tf\n",
    "import gradio as gr"
   ]
  }
 ],
 "metadata": {
  "kernelspec": {
   "display_name": ".venv",
   "language": "python",
   "name": "python3"
  },
  "language_info": {
   "codemirror_mode": {
    "name": "ipython",
    "version": 3
   },
   "file_extension": ".py",
   "mimetype": "text/x-python",
   "name": "python",
   "nbconvert_exporter": "python",
   "pygments_lexer": "ipython3",
   "version": "3.9.16"
  },
  "orig_nbformat": 4
 },
 "nbformat": 4,
 "nbformat_minor": 2
}

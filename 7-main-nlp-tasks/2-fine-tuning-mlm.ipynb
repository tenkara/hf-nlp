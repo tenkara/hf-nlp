{
 "cells": [
  {
   "cell_type": "code",
   "execution_count": 1,
   "metadata": {},
   "outputs": [],
   "source": [
    "# We will use DistilBERT model for this Masked Language Model (MLM) fine-tuning task\n",
    "# DistilBERT is a small, fast, cheap and light Transformer model trained by distilling Bert base.\n",
    "# It has 40% less parameters than bert-base-uncased, runs 60% faster while preserving over 95% of Bert’s performances as measured on the GLUE language understanding benchmark.\n",
    "# DistilBERT is thus a good solution for quick prototyping and for production environments where real-time inference is necessary.\n",
    "\n",
    "from transformers import AutoModelForMaskedLM\n",
    "\n",
    "model_checkpoint = \"distilbert-base-uncased\"\n",
    "model = AutoModelForMaskedLM.from_pretrained(model_checkpoint)"
   ]
  },
  {
   "cell_type": "code",
   "execution_count": 2,
   "metadata": {},
   "outputs": [
    {
     "name": "stdout",
     "output_type": "stream",
     "text": [
      "Number of parameters in distilbert-base-uncased: 66985530\n"
     ]
    }
   ],
   "source": [
    "# how many parameters does our model have?\n",
    "distilbert_num_parameters = model.num_parameters()\n",
    "print(f\"Number of parameters in {model_checkpoint}: {distilbert_num_parameters}\")"
   ]
  },
  {
   "attachments": {},
   "cell_type": "markdown",
   "metadata": {},
   "source": [
    "Testing the model as is..."
   ]
  },
  {
   "cell_type": "code",
   "execution_count": 3,
   "metadata": {},
   "outputs": [],
   "source": [
    "# test example\n",
    "text = \"This is a great [MASK].\""
   ]
  },
  {
   "cell_type": "code",
   "execution_count": 4,
   "metadata": {},
   "outputs": [],
   "source": [
    "from transformers import AutoTokenizer\n",
    "tokenizer = AutoTokenizer.from_pretrained(model_checkpoint)"
   ]
  },
  {
   "cell_type": "code",
   "execution_count": 12,
   "metadata": {},
   "outputs": [
    {
     "name": "stdout",
     "output_type": "stream",
     "text": [
      "deal 0.0365118607878685\n",
      "success 0.0239587239921093\n",
      "adventure 0.0237447340041399\n",
      "idea 0.016085002571344376\n",
      "feat 0.010877519845962524\n"
     ]
    }
   ],
   "source": [
    "# tokenize our text, pass it to the model and get output predictions\n",
    "import torch\n",
    "\n",
    "inputs = tokenizer(text, return_tensors=\"pt\")\n",
    "token_logits = model(**inputs).logits\n",
    "\n",
    "# get the top 5 predicted tokens and their probabilities for the masked token\n",
    "masked_index = (inputs[\"input_ids\"][0] == tokenizer.mask_token_id).nonzero().item()\n",
    "probs = torch.nn.functional.softmax(token_logits[0, masked_index], dim=-1)\n",
    "top_5_tokens = torch.topk(token_logits[0, masked_index], 5, dim=-1).indices.tolist()\n",
    "top_5_probabilities = torch.topk(probs, 5, dim=-1).values.tolist()\n",
    "\n",
    "# print the results\n",
    "for token, prob in zip(top_5_tokens, top_5_probabilities):\n",
    "    print(tokenizer.decode([token]), prob)\n",
    "    \n",
    "    "
   ]
  },
  {
   "attachments": {},
   "cell_type": "markdown",
   "metadata": {},
   "source": [
    "These are everyday choices"
   ]
  },
  {
   "attachments": {},
   "cell_type": "markdown",
   "metadata": {},
   "source": [
    "To showcase domain adaptation, we'll use the famous Large Movie Dataset (or IMDb for short), which is a corpus of movie reviews that is often used to benchmark sentiment analysis models."
   ]
  }
 ],
 "metadata": {
  "kernelspec": {
   "display_name": ".venv",
   "language": "python",
   "name": "python3"
  },
  "language_info": {
   "codemirror_mode": {
    "name": "ipython",
    "version": 3
   },
   "file_extension": ".py",
   "mimetype": "text/x-python",
   "name": "python",
   "nbconvert_exporter": "python",
   "pygments_lexer": "ipython3",
   "version": "3.11.2"
  },
  "orig_nbformat": 4
 },
 "nbformat": 4,
 "nbformat_minor": 2
}
